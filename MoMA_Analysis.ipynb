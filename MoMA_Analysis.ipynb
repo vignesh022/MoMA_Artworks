{
 "cells": [
  {
   "cell_type": "markdown",
   "metadata": {},
   "source": [
    "# A Basic Analysis of the Artworks at The Museum of Modern Art\n",
    "\n",
    "The data shown here is a sampling of the data from the MoMA dataset([link](https://www.kaggle.com/momanyc/museum-collection)). The data present the names and genre of the artworks and the details of the creators (gender, date of birth, date of death, year of artwork creation)\n",
    "\n",
    "In this particular analysis we look at the artists and their age when they created their artwork. We also take a peek at the distribution of artist gender in the dataset."
   ]
  },
  {
   "cell_type": "code",
   "execution_count": 15,
   "metadata": {},
   "outputs": [],
   "source": [
    "from csv import reader\n",
    "\n",
    "opened_file = open('MoMA_Artworks.csv',encoding=\"utf8\")\n",
    "read_file = reader(opened_file)\n",
    "moma = list(read_file)\n",
    "moma = moma[1:]"
   ]
  },
  {
   "cell_type": "code",
   "execution_count": 16,
   "metadata": {},
   "outputs": [
    {
     "name": "stdout",
     "output_type": "stream",
     "text": [
      "[['Ferdinandsbrücke Project, Vienna, Austria, Elevation, preliminary version', 'Otto Wagner', '6210', '(Austrian, 1841–1918)', '(Austrian)', '1841', '(1918)', '(Male)', '1896', 'Ink and cut-and-pasted painted pages on paper', '19 1/8 x 66 1/2\" (48.6 x 168.9 cm)', 'Fractional and promised gift of Jo Carole and Ronald S. Lauder', '885.1996', 'Architecture', 'Architecture & Design', '4/9/1996', 'Y', '2', 'http://www.moma.org/collection/works/2', 'http://www.moma.org/media/W1siZiIsIjU5NDA1Il0sWyJwIiwiY29udmVydCIsIi1yZXNpemUgMzAweDMwMFx1MDAzZSJdXQ.jpg?sha=137b8455b1ec6167', '', '', '', '48.6', '', '', '168.9', '', ''], ['City of Music, National Superior Conservatory of Music and Dance, Paris, France, View from interior courtyard', 'Christian de Portzamparc', '7470', '(French, born 1944)', '(French)', '1944', '(0)', '(Male)', '1987', 'Paint and colored pencil on print', '16 x 11 3/4\" (40.6 x 29.8 cm)', 'Gift of the architect in honor of Lily Auchincloss', '1.1995', 'Architecture', 'Architecture & Design', '1/17/1995', 'Y', '3', 'http://www.moma.org/collection/works/3', 'http://www.moma.org/media/W1siZiIsIjk3Il0sWyJwIiwiY29udmVydCIsIi1yZXNpemUgMzAweDMwMFx1MDAzZSJdXQ.jpg?sha=55b65fa4368fe00a', '', '', '', '40.6401', '', '', '29.8451', '', ''], ['Villa near Vienna Project, Outside Vienna, Austria, Elevation', 'Emil Hoppe', '7605', '(Austrian, 1876–1957)', '(Austrian)', '1876', '(1957)', '(Male)', '1903', 'Graphite, pen, color pencil, ink, and gouache on tracing paper', '13 1/2 x 12 1/2\" (34.3 x 31.8 cm)', 'Gift of Jo Carole and Ronald S. Lauder', '1.1997', 'Architecture', 'Architecture & Design', '1/15/1997', 'Y', '4', 'http://www.moma.org/collection/works/4', 'http://www.moma.org/media/W1siZiIsIjk4Il0sWyJwIiwiY29udmVydCIsIi1yZXNpemUgMzAweDMwMFx1MDAzZSJdXQ.jpg?sha=fdcfca4db3acac1f', '', '', '', '34.3', '', '', '31.8', '', ''], ['The Manhattan Transcripts Project, New York, New York, Introductory panel to Episode 1: The Park', 'Bernard Tschumi', '7056', '(French and Swiss, born Switzerland 1944)', '()', '1944', '(0)', '(Male)', '1980', 'Photographic reproduction with colored synthetic laminate', '20 x 20\" (50.8 x 50.8 cm)', 'Purchase and partial gift of the architect in honor of Lily Auchincloss', '2.1995', 'Architecture', 'Architecture & Design', '1/17/1995', 'Y', '5', 'http://www.moma.org/collection/works/5', 'http://www.moma.org/media/W1siZiIsIjEyNCJdLFsicCIsImNvbnZlcnQiLCItcmVzaXplIDMwMHgzMDBcdTAwM2UiXV0.jpg?sha=c89b9071486760a5', '', '', '', '50.8', '', '', '50.8', '', ''], ['Villa, project, outside Vienna, Austria, Exterior perspective', 'Emil Hoppe', '7605', '(Austrian, 1876–1957)', '(Austrian)', '1876', '(1957)', '(Male)', '1903', 'Graphite, color pencil, ink, and gouache on tracing paper', '15 1/8 x 7 1/2\" (38.4 x 19.1 cm)', 'Gift of Jo Carole and Ronald S. Lauder', '2.1997', 'Architecture', 'Architecture & Design', '1/15/1997', 'Y', '6', 'http://www.moma.org/collection/works/6', 'http://www.moma.org/media/W1siZiIsIjEyNiJdLFsicCIsImNvbnZlcnQiLCItcmVzaXplIDMwMHgzMDBcdTAwM2UiXV0.jpg?sha=b21f3d10def77da9', '', '', '', '38.4', '', '', '19.1', '', '']]\n"
     ]
    }
   ],
   "source": [
    "\n",
    "for row in moma:\n",
    "    nationality = row[2]\n",
    "    gender = row[5]\n",
    "    nationality = nationality.replace('(','')\n",
    "    nationality = nationality.replace(')','')\n",
    "    gender = gender.replace('(','')\n",
    "    gender = gender.replace(')','')\n",
    "    row[2] = nationality\n",
    "    row[5] = gender\n",
    "    \n",
    "print(moma[:5])"
   ]
  },
  {
   "cell_type": "code",
   "execution_count": 5,
   "metadata": {},
   "outputs": [],
   "source": [
    "## 1. String Capitalization ##\n",
    "\n",
    "for row in moma:\n",
    "    gender = row[5]\n",
    "    nationality = row[2]\n",
    "    gender = gender.title()\n",
    "    nationality = nationality.title()\n",
    "    \n",
    "    if not gender:\n",
    "        gender = \"Gender Unknown/Other\"\n",
    "        \n",
    "    row[5] = gender\n",
    "    \n",
    "    if not nationality:\n",
    "        nationality = 'Nationality Unknown'\n",
    "        \n",
    "    row[2] = nationality    "
   ]
  },
  {
   "cell_type": "code",
   "execution_count": 6,
   "metadata": {},
   "outputs": [],
   "source": [
    "## 2. Errors During Data Cleaning ##\n",
    "\n",
    "def clean_and_convert(date):\n",
    "    # check that we don't have an empty string\n",
    "    if date != \"\":\n",
    "        date = date.replace(\"(\", \"\")\n",
    "        date = date.replace(\")\", \"\")\n",
    "        date = int(date)\n",
    "    return date\n",
    "\n",
    "for row in moma:\n",
    "    begindate = row[3]\n",
    "    enddate = row[4]\n",
    "    begindate = clean_and_convert(begindate)\n",
    "    enddate = clean_and_convert(enddate)\n",
    "    row[3] = begindate\n",
    "    row[4] = enddate\n",
    "\n",
    "bad_chars = [\"(\",\")\",\"c\",\"C\",\".\",\"s\",\"'\", \" \"]\n",
    "\n",
    "def strip_characters(string):\n",
    "    for char in bad_chars:\n",
    "        string = string.replace(char,\"\")\n",
    "    return string\n",
    "\n",
    "def process_date(string):\n",
    "    if '-' in string:\n",
    "        temp = string.split('-')\n",
    "        temp1 = int(temp[0])\n",
    "        temp2 = int(temp[1])\n",
    "        date = (temp1+temp2)/2\n",
    "        return round(date)\n",
    "    \n",
    "    date = int(string)\n",
    "    \n",
    "    return date\n",
    "\n",
    "for row in moma:\n",
    "    date = row[6]\n",
    "    date = strip_characters(date)\n",
    "    date = process_date(date)\n",
    "    row[6] = date\n"
   ]
  },
  {
   "cell_type": "code",
   "execution_count": 12,
   "metadata": {},
   "outputs": [],
   "source": [
    "ages = []\n",
    "\n",
    "for row in moma:\n",
    "    date = row[6]\n",
    "    birth = row[3]\n",
    "    if type(birth) == int:\n",
    "        age = date - birth\n",
    "    else:\n",
    "        age = 0\n",
    "    \n",
    "    ages.append(age)\n",
    "    \n",
    "final_ages = []\n",
    "for each in ages:\n",
    "    if each>20:\n",
    "        final_age = each\n",
    "        final_ages.append(final_age)\n",
    "    else:\n",
    "        final_age = \"Unknown\"\n",
    "        final_ages.append(final_age)\n",
    "\n",
    "## 3. Converting Ages to Decades ##\n",
    "\n",
    "decades = []\n",
    "\n",
    "for each in final_ages:\n",
    "    if each == \"Unknown\":\n",
    "        decade = each\n",
    "    else:\n",
    "        decade = str(each)\n",
    "        decade = decade[:-1]\n",
    "        decade = decade + \"0s\"\n",
    "    \n",
    "    decades.append(decade)"
   ]
  },
  {
   "cell_type": "code",
   "execution_count": 8,
   "metadata": {},
   "outputs": [
    {
     "name": "stdout",
     "output_type": "stream",
     "text": [
      "{'30s': 4722, '60s': 1357, '70s': 559, '40s': 4081, '50s': 2434, '20s': 1856, 'Unknown': 1097, '90s': 253, '80s': 364, '100s': 3, '110s': 3}\n"
     ]
    }
   ],
   "source": [
    "## 4. Summarizing the Decade Data ##\n",
    "\n",
    "decade_frequency = {}\n",
    "\n",
    "for each in decades:\n",
    "    if each not in decade_frequency:\n",
    "        decade_frequency[each] = 1\n",
    "    else:\n",
    "        decade_frequency[each] += 1\n",
    "        \n",
    "print(decade_frequency)"
   ]
  },
  {
   "cell_type": "code",
   "execution_count": 13,
   "metadata": {},
   "outputs": [
    {
     "name": "stdout",
     "output_type": "stream",
     "text": [
      "Pablo Picasso's birth year is 1881\n"
     ]
    },
    {
     "ename": "KeyError",
     "evalue": "'Otto Wagner'",
     "output_type": "error",
     "traceback": [
      "\u001b[1;31m---------------------------------------------------------------------------\u001b[0m",
      "\u001b[1;31mKeyError\u001b[0m                                  Traceback (most recent call last)",
      "\u001b[1;32m<ipython-input-13-975d4b0a3c45>\u001b[0m in \u001b[0;36m<module>\u001b[1;34m\u001b[0m\n\u001b[0;32m     31\u001b[0m \u001b[1;33m\u001b[0m\u001b[0m\n\u001b[0;32m     32\u001b[0m \u001b[0martist\u001b[0m \u001b[1;33m=\u001b[0m \u001b[1;34m\"Otto Wagner\"\u001b[0m\u001b[1;33m\u001b[0m\u001b[1;33m\u001b[0m\u001b[0m\n\u001b[1;32m---> 33\u001b[1;33m \u001b[0martist_summary\u001b[0m\u001b[1;33m(\u001b[0m\u001b[0martist\u001b[0m\u001b[1;33m)\u001b[0m\u001b[1;33m\u001b[0m\u001b[1;33m\u001b[0m\u001b[0m\n\u001b[0m",
      "\u001b[1;32m<ipython-input-13-975d4b0a3c45>\u001b[0m in \u001b[0;36martist_summary\u001b[1;34m(artist_name)\u001b[0m\n\u001b[0;32m     22\u001b[0m \u001b[1;33m\u001b[0m\u001b[0m\n\u001b[0;32m     23\u001b[0m \u001b[1;32mdef\u001b[0m \u001b[0martist_summary\u001b[0m\u001b[1;33m(\u001b[0m\u001b[0martist_name\u001b[0m\u001b[1;33m)\u001b[0m\u001b[1;33m:\u001b[0m\u001b[1;33m\u001b[0m\u001b[1;33m\u001b[0m\u001b[0m\n\u001b[1;32m---> 24\u001b[1;33m     \u001b[0mpaintings_no\u001b[0m \u001b[1;33m=\u001b[0m \u001b[0martist_freq\u001b[0m\u001b[1;33m[\u001b[0m\u001b[0martist_name\u001b[0m\u001b[1;33m]\u001b[0m\u001b[1;33m\u001b[0m\u001b[1;33m\u001b[0m\u001b[0m\n\u001b[0m\u001b[0;32m     25\u001b[0m \u001b[1;33m\u001b[0m\u001b[0m\n\u001b[0;32m     26\u001b[0m     \u001b[0mtemplate\u001b[0m \u001b[1;33m=\u001b[0m \u001b[1;34m\"There are {} artworks by {} in the data set\"\u001b[0m\u001b[1;33m.\u001b[0m\u001b[0mformat\u001b[0m\u001b[1;33m(\u001b[0m\u001b[0mpaintings_no\u001b[0m\u001b[1;33m,\u001b[0m \u001b[0martist_name\u001b[0m\u001b[1;33m)\u001b[0m\u001b[1;33m\u001b[0m\u001b[1;33m\u001b[0m\u001b[0m\n",
      "\u001b[1;31mKeyError\u001b[0m: 'Otto Wagner'"
     ]
    }
   ],
   "source": [
    "## 5. Inserting Variables Into Strings ##\n",
    "\n",
    "artist = \"Pablo Picasso\"\n",
    "birth_year = 1881\n",
    "\n",
    "template = \"{}'s birth year is {}\".format(artist, birth_year)\n",
    "print(template)\n",
    "\n",
    "## 6. Creating an Artist Frequency Table ##\n",
    "\n",
    "artist_freq = {}\n",
    "\n",
    "for row in moma:\n",
    "    artist = row[1]\n",
    "    if artist not in artist_freq:\n",
    "        artist_freq[artist] = 1\n",
    "    else:\n",
    "        artist_freq[artist] += 1\n",
    "        \n",
    "\n",
    "## 7. Creating an Artist Summary Function ##\n",
    "\n",
    "def artist_summary(artist_name):\n",
    "    paintings_no = artist_freq[artist_name]\n",
    "    \n",
    "    template = \"There are {} artworks by {} in the data set\".format(paintings_no, artist_name)\n",
    "    \n",
    "    print(template)\n",
    "\n",
    "## Example\n",
    "\n",
    "artist = \"Otto Wagner\"\n",
    "artist_summary(artist)"
   ]
  },
  {
   "cell_type": "code",
   "execution_count": 10,
   "metadata": {},
   "outputs": [
    {
     "name": "stdout",
     "output_type": "stream",
     "text": [
      "There are 2,443 artworks by Female artists\n",
      "There are 13,492 artworks by Male artists\n",
      "There are 794 artworks by Gender Unknown/Other artists\n"
     ]
    }
   ],
   "source": [
    "## 8. Challenge: Summarizing Artwork Gender Data ##\n",
    "\n",
    "gender_freq = {}\n",
    "\n",
    "for row in moma:\n",
    "    gender = row[5]\n",
    "    if gender in gender_freq:\n",
    "        gender_freq[gender] += 1\n",
    "    else:\n",
    "        gender_freq[gender] = 1\n",
    "        \n",
    "for key, value in gender_freq.items():\n",
    "    template = \"There are {:,} artworks by {} artists\".format(value, key)\n",
    "    print(template)"
   ]
  }
 ],
 "metadata": {
  "kernelspec": {
   "display_name": "Python 3",
   "language": "python",
   "name": "python3"
  },
  "language_info": {
   "codemirror_mode": {
    "name": "ipython",
    "version": 3
   },
   "file_extension": ".py",
   "mimetype": "text/x-python",
   "name": "python",
   "nbconvert_exporter": "python",
   "pygments_lexer": "ipython3",
   "version": "3.7.3"
  }
 },
 "nbformat": 4,
 "nbformat_minor": 2
}
